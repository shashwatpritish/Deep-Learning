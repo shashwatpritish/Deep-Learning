{
  "nbformat": 4,
  "nbformat_minor": 0,
  "metadata": {
    "colab": {
      "provenance": [],
      "collapsed_sections": [
        "Kdh3DUs93UNk",
        "8e4H31wY2ot4",
        "un1lRIOo2FmK",
        "OW1VmtKT3I7W",
        "-WB1IapG4pVR",
        "x9RY3nq5_ij0"
      ],
      "authorship_tag": "ABX9TyPBWItNIICuqbaa+tS8lSn2",
      "include_colab_link": true
    },
    "kernelspec": {
      "name": "python3",
      "display_name": "Python 3"
    },
    "language_info": {
      "name": "python"
    },
    "accelerator": "GPU",
    "gpuClass": "standard"
  },
  "cells": [
    {
      "cell_type": "markdown",
      "metadata": {
        "id": "view-in-github",
        "colab_type": "text"
      },
      "source": [
        "<a href=\"https://colab.research.google.com/github/shashwatpritish/Deep-Learning/blob/main/Deep_Learning.ipynb\" target=\"_parent\"><img src=\"https://colab.research.google.com/assets/colab-badge.svg\" alt=\"Open In Colab\"/></a>"
      ]
    },
    {
      "cell_type": "markdown",
      "source": [
        "<img src=\"https://victorzhou.com/media/nn-series/network.svg\" width=\"600px\">\n",
        "\n",
        "# **Deep Learning**\n",
        "\n",
        "\n",
        "<img src=\"https://serokell.io/files/zx/zxwju3ha.Machine-learning-vs-deep-learning.jpg\" width=\"300px\">\n",
        "\n",
        "#### <u>What is Deep Learning?</u>\n",
        "\n",
        "Deep learning is part of a broader family of machine learning methods based on artificial neural networks with representation learning\n",
        "\n",
        "<img src=\"https://www.techopedia.com/wp-content/uploads/2023/02/sphere-art-modern-art-4.jpg\" width=\"300px\">\n",
        "\n",
        "#### <u>What is Artificial neural network?</u>\n",
        "\n",
        "Artificial neural networks, usually simply called neural networks or neural nets, are computing systems inspired by the biological neural networks that constitute animal brains. An ANN is based on a collection of connected units or nodes called artificial neurons, which loosely model the neurons in a biological brain"
      ],
      "metadata": {
        "id": "wrhmOrt2vL72"
      }
    },
    {
      "cell_type": "markdown",
      "source": [
        "<h3><b>Creating our first neural network</b></h3>"
      ],
      "metadata": {
        "id": "Kdh3DUs93UNk"
      }
    },
    {
      "cell_type": "code",
      "source": [
        "import tensorflow as tf"
      ],
      "metadata": {
        "id": "nLLendvs31OB"
      },
      "execution_count": null,
      "outputs": []
    },
    {
      "cell_type": "code",
      "source": [
        "mnist = tf.keras.datasets.mnist"
      ],
      "metadata": {
        "id": "h-R6p9H33-U-"
      },
      "execution_count": null,
      "outputs": []
    },
    {
      "cell_type": "code",
      "source": [
        "(x_train, y_train),(x_test, y_test) = mnist.load_data()\n",
        "x_train, x_test = x_train / 255.0, x_test / 255.0"
      ],
      "metadata": {
        "colab": {
          "base_uri": "https://localhost:8080/"
        },
        "id": "2f-WjBvb4G05",
        "outputId": "fd5942a8-152d-4e64-ad59-6a98451d4f76"
      },
      "execution_count": null,
      "outputs": [
        {
          "output_type": "stream",
          "name": "stdout",
          "text": [
            "Downloading data from https://storage.googleapis.com/tensorflow/tf-keras-datasets/mnist.npz\n",
            "11490434/11490434 [==============================] - 1s 0us/step\n"
          ]
        }
      ]
    },
    {
      "cell_type": "code",
      "source": [
        "model = tf.keras.models.Sequential([\n",
        "  tf.keras.layers.Flatten(input_shape=(28, 28)),\n",
        "  tf.keras.layers.Dense(128, activation='relu'),\n",
        "  tf.keras.layers.Dropout(0.2),\n",
        "  tf.keras.layers.Dense(10, activation='softmax')\n",
        "])"
      ],
      "metadata": {
        "id": "gbRKOqsS4HX4"
      },
      "execution_count": null,
      "outputs": []
    },
    {
      "cell_type": "code",
      "source": [
        "model.compile(optimizer='adam',\n",
        "              loss='sparse_categorical_crossentropy',\n",
        "              metrics=['accuracy'])"
      ],
      "metadata": {
        "id": "13DiVaw-4Jjd"
      },
      "execution_count": null,
      "outputs": []
    },
    {
      "cell_type": "code",
      "source": [],
      "metadata": {
        "id": "9yKEwrli4V3g"
      },
      "execution_count": null,
      "outputs": []
    },
    {
      "cell_type": "code",
      "source": [
        "model.fit(x_train, y_train, epochs=10)"
      ],
      "metadata": {
        "colab": {
          "base_uri": "https://localhost:8080/"
        },
        "id": "iRx-9_9I4L1b",
        "outputId": "3cee0de7-29cc-4735-93ab-6f825d662764"
      },
      "execution_count": null,
      "outputs": [
        {
          "output_type": "stream",
          "name": "stdout",
          "text": [
            "Epoch 1/10\n",
            "1875/1875 [==============================] - 10s 3ms/step - loss: 0.2915 - accuracy: 0.9148\n",
            "Epoch 2/10\n",
            "1875/1875 [==============================] - 5s 2ms/step - loss: 0.1429 - accuracy: 0.9574\n",
            "Epoch 3/10\n",
            "1875/1875 [==============================] - 5s 3ms/step - loss: 0.1055 - accuracy: 0.9683\n",
            "Epoch 4/10\n",
            "1875/1875 [==============================] - 5s 2ms/step - loss: 0.0866 - accuracy: 0.9737\n",
            "Epoch 5/10\n",
            "1875/1875 [==============================] - 5s 2ms/step - loss: 0.0755 - accuracy: 0.9767\n",
            "Epoch 6/10\n",
            "1875/1875 [==============================] - 6s 3ms/step - loss: 0.0659 - accuracy: 0.9785\n",
            "Epoch 7/10\n",
            "1875/1875 [==============================] - 5s 3ms/step - loss: 0.0588 - accuracy: 0.9811\n",
            "Epoch 8/10\n",
            "1875/1875 [==============================] - 5s 3ms/step - loss: 0.0529 - accuracy: 0.9832\n",
            "Epoch 9/10\n",
            "1875/1875 [==============================] - 5s 2ms/step - loss: 0.0462 - accuracy: 0.9846\n",
            "Epoch 10/10\n",
            "1875/1875 [==============================] - 5s 3ms/step - loss: 0.0438 - accuracy: 0.9856\n"
          ]
        },
        {
          "output_type": "execute_result",
          "data": {
            "text/plain": [
              "<keras.callbacks.History at 0x7ff7b3767ca0>"
            ]
          },
          "metadata": {},
          "execution_count": 6
        }
      ]
    },
    {
      "cell_type": "code",
      "source": [
        "model.evaluate(x_test, y_test)"
      ],
      "metadata": {
        "colab": {
          "base_uri": "https://localhost:8080/"
        },
        "id": "TUsGq-514PJg",
        "outputId": "a3753a19-178e-43ac-cbbb-a9f932ec9733"
      },
      "execution_count": null,
      "outputs": [
        {
          "output_type": "stream",
          "name": "stdout",
          "text": [
            "313/313 [==============================] - 1s 4ms/step - loss: 0.0711 - accuracy: 0.9803\n"
          ]
        },
        {
          "output_type": "execute_result",
          "data": {
            "text/plain": [
              "[0.07110382616519928, 0.9803000092506409]"
            ]
          },
          "metadata": {},
          "execution_count": 7
        }
      ]
    },
    {
      "cell_type": "markdown",
      "source": [
        "### **`**"
      ],
      "metadata": {
        "id": "vnMyxvHO33-c"
      }
    },
    {
      "cell_type": "markdown",
      "source": [
        "<center><img src=\"https://static.javatpoint.com/images/favicon2.png\" width=100></center>\n",
        "\n",
        "<center><h1><b>Tensorflow Full Course with JavaPoint</b></h1></center>"
      ],
      "metadata": {
        "id": "T3Oi521syfSF"
      }
    },
    {
      "cell_type": "markdown",
      "source": [
        "### **Importing Tensorflow**"
      ],
      "metadata": {
        "id": "8e4H31wY2ot4"
      }
    },
    {
      "cell_type": "code",
      "source": [
        "import tensorflow as tf"
      ],
      "metadata": {
        "id": "12fPPSaIznrn"
      },
      "execution_count": null,
      "outputs": []
    },
    {
      "cell_type": "markdown",
      "source": [
        "### **Let's create a tensor**"
      ],
      "metadata": {
        "id": "un1lRIOo2FmK"
      }
    },
    {
      "cell_type": "code",
      "source": [
        "r1 = tf.constant(1,tf.int16)"
      ],
      "metadata": {
        "id": "sUrpWxwk1var"
      },
      "execution_count": null,
      "outputs": []
    },
    {
      "cell_type": "code",
      "source": [
        "r1"
      ],
      "metadata": {
        "colab": {
          "base_uri": "https://localhost:8080/"
        },
        "id": "KHiwBWv22k2f",
        "outputId": "15573fe4-f663-45f8-9234-7f7936d08075"
      },
      "execution_count": null,
      "outputs": [
        {
          "output_type": "execute_result",
          "data": {
            "text/plain": [
              "<tf.Tensor: shape=(), dtype=int16, numpy=1>"
            ]
          },
          "metadata": {},
          "execution_count": 3
        }
      ]
    },
    {
      "cell_type": "code",
      "source": [
        "print(r1)"
      ],
      "metadata": {
        "colab": {
          "base_uri": "https://localhost:8080/"
        },
        "id": "5V9mUKUK2xS2",
        "outputId": "a72f15f8-a113-4a23-c269-b43c68dcb435"
      },
      "execution_count": null,
      "outputs": [
        {
          "output_type": "stream",
          "name": "stdout",
          "text": [
            "tf.Tensor(1, shape=(), dtype=int16)\n"
          ]
        }
      ]
    },
    {
      "cell_type": "markdown",
      "source": [
        "### **Tensor with a name parameter**"
      ],
      "metadata": {
        "id": "OW1VmtKT3I7W"
      }
    },
    {
      "cell_type": "code",
      "source": [
        "tensor = tf.constant(1,dtype=tf.int16,name=\"mytensor\")"
      ],
      "metadata": {
        "id": "UlqgUTBP3NrZ"
      },
      "execution_count": null,
      "outputs": []
    },
    {
      "cell_type": "code",
      "source": [
        "print(tensor)"
      ],
      "metadata": {
        "colab": {
          "base_uri": "https://localhost:8080/"
        },
        "id": "f0dEm2By4bFk",
        "outputId": "f55861d4-3708-4d21-8831-e42357fac88e"
      },
      "execution_count": null,
      "outputs": [
        {
          "output_type": "stream",
          "name": "stdout",
          "text": [
            "tf.Tensor(1, shape=(), dtype=int16)\n"
          ]
        }
      ]
    },
    {
      "cell_type": "markdown",
      "source": [
        "### **Types of data in a tensor**"
      ],
      "metadata": {
        "id": "-WB1IapG4pVR"
      }
    },
    {
      "cell_type": "code",
      "source": [
        "# String type tensor"
      ],
      "metadata": {
        "id": "DrLeSvZS486A"
      },
      "execution_count": null,
      "outputs": []
    },
    {
      "cell_type": "code",
      "source": [
        "mytensor = tf.constant(\"Shashwat Pritish\",tf.string)"
      ],
      "metadata": {
        "id": "-CwdKlJB4udN"
      },
      "execution_count": null,
      "outputs": []
    },
    {
      "cell_type": "code",
      "source": [
        "print(mytensor)"
      ],
      "metadata": {
        "colab": {
          "base_uri": "https://localhost:8080/"
        },
        "id": "8HPispVl4419",
        "outputId": "cfa2d778-74b6-48ec-8c89-6e2670c478a3"
      },
      "execution_count": null,
      "outputs": [
        {
          "output_type": "stream",
          "name": "stdout",
          "text": [
            "tf.Tensor(b'Shashwat Pritish', shape=(), dtype=string)\n"
          ]
        }
      ]
    },
    {
      "cell_type": "code",
      "source": [
        "# Float Type tensor"
      ],
      "metadata": {
        "id": "TmgY12W_47GZ"
      },
      "execution_count": null,
      "outputs": []
    },
    {
      "cell_type": "code",
      "source": [
        "my_float_tensor = tf.constant(3.14159,tf.float16)"
      ],
      "metadata": {
        "id": "YIbQI1UC5Cpn"
      },
      "execution_count": null,
      "outputs": []
    },
    {
      "cell_type": "code",
      "source": [
        "print(my_float_tensor)"
      ],
      "metadata": {
        "colab": {
          "base_uri": "https://localhost:8080/"
        },
        "id": "QaFkHFjs5Mr_",
        "outputId": "49d81d94-954e-4ebc-fe0c-0c420d6c2e68"
      },
      "execution_count": null,
      "outputs": [
        {
          "output_type": "stream",
          "name": "stdout",
          "text": [
            "tf.Tensor(3.14, shape=(), dtype=float16)\n"
          ]
        }
      ]
    },
    {
      "cell_type": "code",
      "source": [
        "# Bool Type Tensor"
      ],
      "metadata": {
        "id": "WIxCcwbV5RZ_"
      },
      "execution_count": null,
      "outputs": []
    },
    {
      "cell_type": "code",
      "source": [
        "my_bool_tensor = tf.constant(True,tf.bool)"
      ],
      "metadata": {
        "id": "xl0v8eCM5Uat"
      },
      "execution_count": null,
      "outputs": []
    },
    {
      "cell_type": "code",
      "source": [
        "print(my_bool_tensor)"
      ],
      "metadata": {
        "colab": {
          "base_uri": "https://localhost:8080/"
        },
        "id": "0dBfWKDX_QHe",
        "outputId": "f27c653b-c7f0-4569-a2a3-c801520337b5"
      },
      "execution_count": null,
      "outputs": [
        {
          "output_type": "stream",
          "name": "stdout",
          "text": [
            "tf.Tensor(True, shape=(), dtype=bool)\n"
          ]
        }
      ]
    },
    {
      "cell_type": "markdown",
      "source": [
        "### **Matrix Tensor**"
      ],
      "metadata": {
        "id": "x9RY3nq5_ij0"
      }
    },
    {
      "cell_type": "code",
      "source": [
        "my_matrix = tf.constant([[[1,2],[2,4],[4,6]]],dtype=tf.int16)"
      ],
      "metadata": {
        "id": "lAApAE4t_npd"
      },
      "execution_count": null,
      "outputs": []
    },
    {
      "cell_type": "code",
      "source": [
        "print(my_matrix)"
      ],
      "metadata": {
        "colab": {
          "base_uri": "https://localhost:8080/"
        },
        "id": "t67ajIYx_9tN",
        "outputId": "45bf3f5f-5687-4e39-f912-d11ab2d30882"
      },
      "execution_count": null,
      "outputs": [
        {
          "output_type": "stream",
          "name": "stdout",
          "text": [
            "tf.Tensor(\n",
            "[[[1 2]\n",
            "  [2 4]\n",
            "  [4 6]]], shape=(1, 3, 2), dtype=int16)\n"
          ]
        }
      ]
    },
    {
      "cell_type": "code",
      "source": [],
      "metadata": {
        "id": "4rfqhPGeABzj"
      },
      "execution_count": null,
      "outputs": []
    }
  ]
}